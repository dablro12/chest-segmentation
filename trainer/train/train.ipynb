{
 "cells": [
  {
   "cell_type": "code",
   "execution_count": 2,
   "metadata": {},
   "outputs": [
    {
     "name": "stderr",
     "output_type": "stream",
     "text": [
      "2024-05-13 11:08:37.554961: I tensorflow/core/util/port.cc:110] oneDNN custom operations are on. You may see slightly different numerical results due to floating-point round-off errors from different computation orders. To turn them off, set the environment variable `TF_ENABLE_ONEDNN_OPTS=0`.\n",
      "2024-05-13 11:08:37.556148: I tensorflow/tsl/cuda/cudart_stub.cc:28] Could not find cuda drivers on your machine, GPU will not be used.\n",
      "2024-05-13 11:08:37.580866: I tensorflow/core/platform/cpu_feature_guard.cc:182] This TensorFlow binary is optimized to use available CPU instructions in performance-critical operations.\n",
      "To enable the following instructions: AVX2 AVX512F AVX512_VNNI FMA, in other operations, rebuild TensorFlow with the appropriate compiler flags.\n",
      "2024-05-13 11:08:38.093301: W tensorflow/compiler/tf2tensorrt/utils/py_utils.cc:38] TF-TRT Warning: Could not find TensorRT\n"
     ]
    }
   ],
   "source": [
    "import sys\n",
    "sys.path.append('../')\n",
    "import torch \n",
    "from torchvision import transforms\n",
    "from torch.utils.data import DataLoader\n",
    "import torch.nn as nn\n",
    "from utils.dataset import Segmentation_CustomDataset as CustomDataset\n",
    "import os\n",
    "import torch.optim as optim\n",
    "from utils.__init__ import *\n",
    "from utils import custom_transforms\n",
    "from utils import * \n",
    "os.environ['KMP_DUPLICATE_LIB_OK']='True'\n",
    "import sys \n",
    "sys.path.append('../')\n",
    "from model import load_model"
   ]
  },
  {
   "cell_type": "code",
   "execution_count": 1,
   "metadata": {},
   "outputs": [
    {
     "ename": "NameError",
     "evalue": "name 'transforms' is not defined",
     "output_type": "error",
     "traceback": [
      "\u001b[0;31m---------------------------------------------------------------------------\u001b[0m",
      "\u001b[0;31mNameError\u001b[0m                                 Traceback (most recent call last)",
      "Cell \u001b[0;32mIn[1], line 8\u001b[0m\n\u001b[1;32m      3\u001b[0m vl_img_dir \u001b[38;5;241m=\u001b[39m \u001b[38;5;124m'\u001b[39m\u001b[38;5;124m/mnt/HDD/chest-seg/dataset/train_img\u001b[39m\u001b[38;5;124m'\u001b[39m \n\u001b[1;32m      4\u001b[0m vl_mask_dir \u001b[38;5;241m=\u001b[39m \u001b[38;5;124m'\u001b[39m\u001b[38;5;124m/mnt/HDD/chest-seg/dataset/train_mask\u001b[39m\u001b[38;5;124m'\u001b[39m \n\u001b[1;32m      7\u001b[0m transform \u001b[38;5;241m=\u001b[39m {\n\u001b[0;32m----> 8\u001b[0m     \u001b[38;5;124m'\u001b[39m\u001b[38;5;124mtrain\u001b[39m\u001b[38;5;124m'\u001b[39m: \u001b[43mtransforms\u001b[49m\u001b[38;5;241m.\u001b[39mCompose([\n\u001b[1;32m      9\u001b[0m         transforms\u001b[38;5;241m.\u001b[39mRandomPerspective(distortion_scale\u001b[38;5;241m=\u001b[39m\u001b[38;5;241m0.5\u001b[39m, p\u001b[38;5;241m=\u001b[39m\u001b[38;5;241m0.5\u001b[39m),\n\u001b[1;32m     10\u001b[0m         transforms\u001b[38;5;241m.\u001b[39mRandomRotation(\u001b[38;5;241m25\u001b[39m),\n\u001b[1;32m     11\u001b[0m         transforms\u001b[38;5;241m.\u001b[39mRandomHorizontalFlip(p\u001b[38;5;241m=\u001b[39m\u001b[38;5;241m0.5\u001b[39m),\n\u001b[1;32m     12\u001b[0m         transforms\u001b[38;5;241m.\u001b[39mRandomVerticalFlip(p\u001b[38;5;241m=\u001b[39m\u001b[38;5;241m0.5\u001b[39m),\n\u001b[1;32m     13\u001b[0m         transforms\u001b[38;5;241m.\u001b[39mResize((\u001b[38;5;241m224\u001b[39m, \u001b[38;5;241m224\u001b[39m)),\n\u001b[1;32m     14\u001b[0m         transforms\u001b[38;5;241m.\u001b[39mToTensor(),\n\u001b[1;32m     15\u001b[0m     ]),\n\u001b[1;32m     16\u001b[0m     \u001b[38;5;124m'\u001b[39m\u001b[38;5;124mvalid\u001b[39m\u001b[38;5;124m'\u001b[39m: transforms\u001b[38;5;241m.\u001b[39mCompose([\n\u001b[1;32m     17\u001b[0m         transforms\u001b[38;5;241m.\u001b[39mResize((\u001b[38;5;241m224\u001b[39m, \u001b[38;5;241m224\u001b[39m)),\n\u001b[1;32m     18\u001b[0m         transforms\u001b[38;5;241m.\u001b[39mToTensor(),\n\u001b[1;32m     19\u001b[0m     ])\n\u001b[1;32m     20\u001b[0m }\n\u001b[1;32m     22\u001b[0m \u001b[38;5;66;03m# Dataset and DataLoader setup\u001b[39;00m\n\u001b[1;32m     23\u001b[0m train_dataset \u001b[38;5;241m=\u001b[39m CustomDataset(\n\u001b[1;32m     24\u001b[0m     image_dir \u001b[38;5;241m=\u001b[39m tr_img_dir,\n\u001b[1;32m     25\u001b[0m     mask_dir \u001b[38;5;241m=\u001b[39m tr_mask_dir,\n\u001b[1;32m     26\u001b[0m     transform\u001b[38;5;241m=\u001b[39mtransform[\u001b[38;5;124m'\u001b[39m\u001b[38;5;124mtrain\u001b[39m\u001b[38;5;124m'\u001b[39m],\n\u001b[1;32m     27\u001b[0m     testing\u001b[38;5;241m=\u001b[39m\u001b[38;5;28;01mFalse\u001b[39;00m,\n\u001b[1;32m     28\u001b[0m )\n",
      "\u001b[0;31mNameError\u001b[0m: name 'transforms' is not defined"
     ]
    }
   ],
   "source": [
    "tr_img_dir = '/mnt/HDD/chest-seg/dataset/train_img'\n",
    "tr_mask_dir = '/mnt/HDD/chest-seg/dataset/train_mask' \n",
    "vl_img_dir = '/mnt/HDD/chest-seg/dataset/train_img' \n",
    "vl_mask_dir = '/mnt/HDD/chest-seg/dataset/train_mask' \n",
    "    \n",
    "\n",
    "transform = {\n",
    "    'train': transforms.Compose([\n",
    "        transforms.RandomPerspective(distortion_scale=0.5, p=0.5),\n",
    "        transforms.RandomRotation(25),\n",
    "        transforms.RandomHorizontalFlip(p=0.5),\n",
    "        transforms.RandomVerticalFlip(p=0.5),\n",
    "        transforms.Resize((224, 224)),\n",
    "        transforms.ToTensor(),\n",
    "    ]),\n",
    "    'valid': transforms.Compose([\n",
    "        transforms.Resize((224, 224)),\n",
    "        transforms.ToTensor(),\n",
    "    ])\n",
    "}\n",
    "\n",
    "# Dataset and DataLoader setup\n",
    "train_dataset = CustomDataset(\n",
    "    image_dir = tr_img_dir,\n",
    "    mask_dir = tr_mask_dir,\n",
    "    transform=transform['train'],\n",
    "    testing=False,\n",
    ")\n",
    "\n",
    "valid_dataset = CustomDataset(\n",
    "    image_dir = vl_img_dir,\n",
    "    mask_dir = vl_mask_dir,\n",
    "    transform=transform['valid'],\n",
    "    testing=True,  # Disables random transformations for validation\n",
    "    seed = 627\n",
    ")\n",
    "tr_batch, vl_batch = 2, 2\n",
    "train_loader = DataLoader(dataset = train_dataset, batch_size = tr_batch, shuffle = False)\n",
    "valid_loader = DataLoader(dataset = valid_dataset, batch_size = vl_batch, shuffle = True)\n",
    "\n",
    "for images, masks in train_loader:\n",
    "    print(images.shape, masks.shape)\n",
    "    print(images.min(), images.max())\n",
    "    print(masks.unique())\n",
    "    \n",
    "    train_plotting(images, masks)\n",
    "    break\n",
    "\n",
    "# for images, masks, paths in valid_loader:\n",
    "#     print(images.shape, masks.shape)\n",
    "#     print(images.min(), images.max())\n",
    "#     print(masks.unique())\n",
    "    \n",
    "#     train_plotting(images, masks)\n",
    "#     break\n"
   ]
  },
  {
   "cell_type": "code",
   "execution_count": 3,
   "metadata": {},
   "outputs": [
    {
     "name": "stdout",
     "output_type": "stream",
     "text": [
      "Model: MONAI-SwinUNET loaded successfully!! | pretrained : None\n",
      "output shape : torch.Size([2, 1, 224, 224])\n"
     ]
    }
   ],
   "source": [
    "# device = 'cuda' if torch.cuda.is_available() else 'cpu'\n",
    "device = 'cpu'\n",
    "\n",
    "model_name = 'monai_swinunet'\n",
    "\n",
    "save_path = os.path.join('/mnt/HDD/chest-seg_models', model_name)\n",
    "os.makedirs(save_path, exist_ok=True)\n",
    "\n",
    "model_loader = load_model.segmentation_models_loader(model_name = model_name)\n",
    "model = model_loader().to(device)\n",
    "            \n",
    "optimizer = optim.AdamW(model.parameters(), lr=1e-4)\n",
    "loss_fn = nn.BCELoss().to(device)\n",
    "metrics = {\n",
    "    'train_loss':[], 'train_acc':[], 'train_iou':[], \n",
    "    'valid_loss':[], 'valid_acc':[], 'valid_iou':[],\n",
    "}\n",
    "\n",
    "print(f'output shape : {model(torch.randn(2, 1, 224, 224).to(device)).shape}')"
   ]
  },
  {
   "cell_type": "code",
   "execution_count": 4,
   "metadata": {
    "scrolled": true
   },
   "outputs": [
    {
     "ename": "KeyboardInterrupt",
     "evalue": "",
     "output_type": "error",
     "traceback": [
      "\u001b[0;31m---------------------------------------------------------------------------\u001b[0m",
      "\u001b[0;31mKeyboardInterrupt\u001b[0m                         Traceback (most recent call last)",
      "Cell \u001b[0;32mIn[4], line 12\u001b[0m\n\u001b[1;32m     10\u001b[0m \u001b[38;5;66;03m# BCE Logistic Loss\u001b[39;00m\n\u001b[1;32m     11\u001b[0m loss \u001b[38;5;241m=\u001b[39m loss_fn(outputs, masks)\n\u001b[0;32m---> 12\u001b[0m \u001b[43mloss\u001b[49m\u001b[38;5;241;43m.\u001b[39;49m\u001b[43mbackward\u001b[49m\u001b[43m(\u001b[49m\u001b[43m)\u001b[49m\n\u001b[1;32m     13\u001b[0m optimizer\u001b[38;5;241m.\u001b[39mstep()\n\u001b[1;32m     15\u001b[0m train_losses \u001b[38;5;241m+\u001b[39m\u001b[38;5;241m=\u001b[39m loss\u001b[38;5;241m.\u001b[39mcpu()\u001b[38;5;241m.\u001b[39mdetach()\u001b[38;5;241m.\u001b[39mitem()\n",
      "File \u001b[0;32m~/anaconda3/envs/eiden/lib/python3.8/site-packages/torch/_tensor.py:522\u001b[0m, in \u001b[0;36mTensor.backward\u001b[0;34m(self, gradient, retain_graph, create_graph, inputs)\u001b[0m\n\u001b[1;32m    512\u001b[0m \u001b[38;5;28;01mif\u001b[39;00m has_torch_function_unary(\u001b[38;5;28mself\u001b[39m):\n\u001b[1;32m    513\u001b[0m     \u001b[38;5;28;01mreturn\u001b[39;00m handle_torch_function(\n\u001b[1;32m    514\u001b[0m         Tensor\u001b[38;5;241m.\u001b[39mbackward,\n\u001b[1;32m    515\u001b[0m         (\u001b[38;5;28mself\u001b[39m,),\n\u001b[0;32m   (...)\u001b[0m\n\u001b[1;32m    520\u001b[0m         inputs\u001b[38;5;241m=\u001b[39minputs,\n\u001b[1;32m    521\u001b[0m     )\n\u001b[0;32m--> 522\u001b[0m \u001b[43mtorch\u001b[49m\u001b[38;5;241;43m.\u001b[39;49m\u001b[43mautograd\u001b[49m\u001b[38;5;241;43m.\u001b[39;49m\u001b[43mbackward\u001b[49m\u001b[43m(\u001b[49m\n\u001b[1;32m    523\u001b[0m \u001b[43m    \u001b[49m\u001b[38;5;28;43mself\u001b[39;49m\u001b[43m,\u001b[49m\u001b[43m \u001b[49m\u001b[43mgradient\u001b[49m\u001b[43m,\u001b[49m\u001b[43m \u001b[49m\u001b[43mretain_graph\u001b[49m\u001b[43m,\u001b[49m\u001b[43m \u001b[49m\u001b[43mcreate_graph\u001b[49m\u001b[43m,\u001b[49m\u001b[43m \u001b[49m\u001b[43minputs\u001b[49m\u001b[38;5;241;43m=\u001b[39;49m\u001b[43minputs\u001b[49m\n\u001b[1;32m    524\u001b[0m \u001b[43m\u001b[49m\u001b[43m)\u001b[49m\n",
      "File \u001b[0;32m~/anaconda3/envs/eiden/lib/python3.8/site-packages/torch/autograd/__init__.py:266\u001b[0m, in \u001b[0;36mbackward\u001b[0;34m(tensors, grad_tensors, retain_graph, create_graph, grad_variables, inputs)\u001b[0m\n\u001b[1;32m    261\u001b[0m     retain_graph \u001b[38;5;241m=\u001b[39m create_graph\n\u001b[1;32m    263\u001b[0m \u001b[38;5;66;03m# The reason we repeat the same comment below is that\u001b[39;00m\n\u001b[1;32m    264\u001b[0m \u001b[38;5;66;03m# some Python versions print out the first line of a multi-line function\u001b[39;00m\n\u001b[1;32m    265\u001b[0m \u001b[38;5;66;03m# calls in the traceback and some print out the last line\u001b[39;00m\n\u001b[0;32m--> 266\u001b[0m \u001b[43mVariable\u001b[49m\u001b[38;5;241;43m.\u001b[39;49m\u001b[43m_execution_engine\u001b[49m\u001b[38;5;241;43m.\u001b[39;49m\u001b[43mrun_backward\u001b[49m\u001b[43m(\u001b[49m\u001b[43m  \u001b[49m\u001b[38;5;66;43;03m# Calls into the C++ engine to run the backward pass\u001b[39;49;00m\n\u001b[1;32m    267\u001b[0m \u001b[43m    \u001b[49m\u001b[43mtensors\u001b[49m\u001b[43m,\u001b[49m\n\u001b[1;32m    268\u001b[0m \u001b[43m    \u001b[49m\u001b[43mgrad_tensors_\u001b[49m\u001b[43m,\u001b[49m\n\u001b[1;32m    269\u001b[0m \u001b[43m    \u001b[49m\u001b[43mretain_graph\u001b[49m\u001b[43m,\u001b[49m\n\u001b[1;32m    270\u001b[0m \u001b[43m    \u001b[49m\u001b[43mcreate_graph\u001b[49m\u001b[43m,\u001b[49m\n\u001b[1;32m    271\u001b[0m \u001b[43m    \u001b[49m\u001b[43minputs\u001b[49m\u001b[43m,\u001b[49m\n\u001b[1;32m    272\u001b[0m \u001b[43m    \u001b[49m\u001b[43mallow_unreachable\u001b[49m\u001b[38;5;241;43m=\u001b[39;49m\u001b[38;5;28;43;01mTrue\u001b[39;49;00m\u001b[43m,\u001b[49m\n\u001b[1;32m    273\u001b[0m \u001b[43m    \u001b[49m\u001b[43maccumulate_grad\u001b[49m\u001b[38;5;241;43m=\u001b[39;49m\u001b[38;5;28;43;01mTrue\u001b[39;49;00m\u001b[43m,\u001b[49m\n\u001b[1;32m    274\u001b[0m \u001b[43m\u001b[49m\u001b[43m)\u001b[49m\n",
      "\u001b[0;31mKeyboardInterrupt\u001b[0m: "
     ]
    }
   ],
   "source": [
    "\n",
    "from utils.metrics import calculate_metrics\n",
    "for epoch in range(500):\n",
    "    train_losses, train_accs, train_ious, valid_losses, valid_accs, valid_ious = 0, 0, 0, 0, 0, 0\n",
    "    model.train()\n",
    "    for images, masks in train_loader:\n",
    "        optimizer.zero_grad()\n",
    "        images, masks = images.to(device), masks.to(device)\n",
    "        outputs = model(images)\n",
    "        \n",
    "        # BCE Logistic Loss\n",
    "        loss = loss_fn(outputs, masks)\n",
    "        loss.backward()\n",
    "        optimizer.step()\n",
    "        \n",
    "        train_losses += loss.cpu().detach().item()\n",
    "        acc, iou = calculate_metrics(outputs, masks)\n",
    "        train_accs += acc\n",
    "        train_ious += iou\n",
    "\n",
    "    with torch.no_grad():\n",
    "        model.eval()\n",
    "        for images, masks, paths in valid_loader:\n",
    "            images, masks = images.to(device), masks.to(device)\n",
    "            ### inference\n",
    "            outputs = model(images)  # 3+1ch\n",
    "            \n",
    "            loss = loss_fn(outputs, masks)\n",
    "            valid_losses += loss.cpu().detach().item()\n",
    "            \n",
    "            acc, iou = calculate_metrics(outputs, masks, 0.5)\n",
    "            valid_accs += acc\n",
    "            valid_ious += iou\n",
    "            \n",
    "    if epoch % 5 == 0:\n",
    "        save_validation(images, masks, (outputs>0.5).int(), epoch, save_dir = save_path)\n",
    "    #     save_model(model, optimizer, epoch, save_dir = save_path)\n",
    "    #     save_loss(metrics, save_dir = save_path)\n",
    "\n",
    "    metrics['train_loss'].append(train_losses / len(train_loader))\n",
    "    metrics['train_acc'].append(train_accs / len(train_loader))\n",
    "    metrics['train_iou'].append(train_ious / len(train_loader))\n",
    "    metrics['valid_loss'].append(valid_losses / len(valid_loader))\n",
    "    metrics['valid_acc'].append(valid_accs / len(valid_loader))\n",
    "    metrics['valid_iou'].append(valid_ious / len(valid_loader))\n",
    "\n",
    "    print(\"#\" * 100)    \n",
    "    print(f\"Train - BCE : {metrics['train_loss'][-1]} | ACC : {metrics['train_acc'][-1]} | mIoU : {metrics['train_iou'][-1]} | \")\n",
    "    print(f\"Valid - BCE : {metrics['valid_loss'][-1]} | ACC : {metrics['valid_acc'][-1]} | mIoU : {metrics['valid_iou'][-1]} | \")\n",
    "    print(\"#\" * 100)\n",
    "    \n"
   ]
  },
  {
   "cell_type": "code",
   "execution_count": null,
   "metadata": {},
   "outputs": [],
   "source": [
    "# model weight에서 dead weight 파라미터 개수 확인 \n",
    "# 출력 : dead_weight / total_weight \n",
    "dead_weight, total_weight = 0, 0\n",
    "for p in model.parameters():\n",
    "    total_weight += p.numel()\n",
    "    dead_weight += (p == 0).sum().item()\n",
    "print(f\"Dead Weight : {dead_weight} / {total_weight} = {dead_weight / total_weight * 100:.2f} %\")\n",
    "\n"
   ]
  }
 ],
 "metadata": {
  "kernelspec": {
   "display_name": "Python 3 (ipykernel)",
   "language": "python",
   "name": "python3"
  },
  "language_info": {
   "codemirror_mode": {
    "name": "ipython",
    "version": 3
   },
   "file_extension": ".py",
   "mimetype": "text/x-python",
   "name": "python",
   "nbconvert_exporter": "python",
   "pygments_lexer": "ipython3",
   "version": "3.8.18"
  }
 },
 "nbformat": 4,
 "nbformat_minor": 4
}
